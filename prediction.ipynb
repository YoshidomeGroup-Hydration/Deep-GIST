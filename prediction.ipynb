{
 "cells": [
  {
   "cell_type": "code",
   "execution_count": null,
   "metadata": {},
   "outputs": [],
   "source": [
    "import os\n",
    "import numpy as np\n",
    "import glob\n",
    "import sys\n",
    "import math\n",
    "import json\n",
    "\n",
    "from utils import *\n",
    "from unet_model import *\n",
    "\n",
    "#os.environ[\"CUDA_VISIBLE_DEVICES\"] = \"-1\""
   ]
  },
  {
   "cell_type": "markdown",
   "metadata": {},
   "source": [
    "## Model Loading "
   ]
  },
  {
   "cell_type": "code",
   "execution_count": null,
   "metadata": {},
   "outputs": [],
   "source": [
    "with open(glob.glob(\"info*\")[0], \"r\") as f:\n",
    "    info = json.load(f)\n",
    "print(info)\n",
    "\n",
    "model = UNet(input_dim=info[\"input_dim\"], n_filters=info[\"n_filters\"], kernel_size=info[\"kernel_size\"],\n",
    "                     n_depth = info[\"n_depth\"], activation=info[\"activation\"], norm=info[\"norm\"], dropout_rate=info[\"dropout_rate\"],\n",
    "                     down_type=info[\"downtype\"], up_type=info[\"uptype\"], residual=info[\"residual\"], SE=info[\"SE\"])\n",
    "model.load_weights(\"A_best.h5\")"
   ]
  },
  {
   "cell_type": "markdown",
   "metadata": {},
   "source": [
    "## Data Loading & Prediction"
   ]
  },
  {
   "cell_type": "code",
   "execution_count": null,
   "metadata": {},
   "outputs": [],
   "source": [
    "protein = \"4jwk\"\n",
    "dxname=\"gist-dA\"\n",
    "path_dir_data = \"/hogehoge/\"\n",
    "path_pdb = path_dir_data + f\"{protein}.pdb\"\n",
    "\n",
    "# Voxelization of protein 3D structures\n",
    "a = Atoms()\n",
    "a.voxelize(protein, path_pdb)\n",
    "print(\"Load\", a.box.shape, end='>> ')\n",
    "\n",
    "a.split()\n",
    "print(\"Split\", a.small_box.shape, end='>> ')\n",
    "\n",
    "# Prediction\n",
    "gpred = model.predict(a.small_box)\n",
    "print(\"Predict\", gpred.shape, end='>> ')\n",
    "\n",
    "gp = GistMap()\n",
    "gp.recreate_from_small_box(small_box=gpred, ref=a)\n",
    "\n",
    "print(\"Recreate \", gp.box_recreate.shape)\n",
    "\n",
    "#Output\n",
    "gp.to_dx(save_dir=f\"./{protein}-{dxname}-pred.dx\")"
   ]
  }
 ],
 "metadata": {
  "kernelspec": {
   "display_name": "Python 3 (ipykernel)",
   "language": "python",
   "name": "python3"
  },
  "language_info": {
   "codemirror_mode": {
    "name": "ipython",
    "version": 3
   },
   "file_extension": ".py",
   "mimetype": "text/x-python",
   "name": "python",
   "nbconvert_exporter": "python",
   "pygments_lexer": "ipython3",
   "version": "3.7.8"
  }
 },
 "nbformat": 4,
 "nbformat_minor": 4
}
